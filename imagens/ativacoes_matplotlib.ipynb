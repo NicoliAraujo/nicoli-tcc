{
 "cells": [
  {
   "cell_type": "code",
   "execution_count": 1,
   "metadata": {
    "collapsed": true
   },
   "outputs": [],
   "source": [
    "import numpy as np\n",
    "import pandas as pd\n",
    "from scipy.special import expit\n",
    "from sklearn.utils.extmath import softmax\n",
    "\n",
    "%matplotlib inline\n",
    "\n",
    "import seaborn as sns\n",
    "import matplotlib.pyplot as plt"
   ]
  },
  {
   "cell_type": "code",
   "execution_count": 7,
   "metadata": {},
   "outputs": [
    {
     "data": {
      "text/plain": [
       "[<matplotlib.lines.Line2D at 0x7f7293539f98>]"
      ]
     },
     "execution_count": 7,
     "metadata": {},
     "output_type": "execute_result"
    },
    {
     "data": {
      "text/plain": [
       "<matplotlib.figure.Figure at 0x7f72935872b0>"
      ]
     },
     "metadata": {},
     "output_type": "display_data"
    },
    {
     "data": {
      "image/png": "[encoded data removed]",
      "text/plain": [
       "<matplotlib.figure.Figure at 0x7f72934fb6a0>"
      ]
     },
     "metadata": {},
     "output_type": "display_data"
    }
   ],
   "source": [
    "plt.clf()\n",
    "\n",
    "x = np.arange(-4.0, 4.1, 0.1)\n",
    "y_linear = x.copy()\n",
    "\n",
    "fig, ax = plt.subplots()\n",
    "\n",
    "plt.tick_params(\n",
    "    axis='both',\n",
    "    which='both',      # both major and minor ticks are affected\n",
    "    bottom=False,      # ticks along the bottom edge are off\n",
    "    left=False,\n",
    "    right=False,\n",
    "    top=False,         # ticks along the top edge are off\n",
    "    labelbottom=False, \n",
    "    labelleft=False) # labels along the bottom edge are off\n",
    "\n",
    "ax.plot(x,y_linear, color='red')\n",
    "\n",
    "#ax.grid()\n",
    "\n",
    "plt.savefig('linear.pdf')"
   ]
  },
  {
   "cell_type": "code",
   "execution_count": 8,
   "metadata": {},
   "outputs": [
    {
     "data": {
      "text/plain": [
       "[<matplotlib.lines.Line2D at 0x7f72934fb710>]"
      ]
     },
     "execution_count": 8,
     "metadata": {},
     "output_type": "execute_result"
    },
    {
     "data": {
      "text/plain": [
       "<matplotlib.figure.Figure at 0x7f72934fbb70>"
      ]
     },
     "metadata": {},
     "output_type": "display_data"
    },
    {
     "data": {
      "image/png": "[encoded data removed]",
      "text/plain": [
       "<matplotlib.figure.Figure at 0x7f72934fb208>"
      ]
     },
     "metadata": {},
     "output_type": "display_data"
    }
   ],
   "source": [
    "plt.clf()\n",
    "\n",
    "x = np.arange(-4.0, 4.0, 0.1)\n",
    "y_tanh = np.tanh(x)\n",
    "\n",
    "fig, ax = plt.subplots()\n",
    "\n",
    "plt.tick_params(\n",
    "    axis='both',\n",
    "    which='both',      # both major and minor ticks are affected\n",
    "    bottom=False,      # ticks along the bottom edge are off\n",
    "    left=False,\n",
    "    right=False,\n",
    "    top=False,         # ticks along the top edge are off\n",
    "    labelbottom=False, \n",
    "    labelleft=False) # labels along the bottom edge are off\n",
    "\n",
    "ax.plot(x,y_tanh, color='red')\n",
    "\n",
    "#ax.grid()\n",
    "\n",
    "plt.savefig('tanh.pdf')"
   ]
  },
  {
   "cell_type": "code",
   "execution_count": 16,
   "metadata": {},
   "outputs": [
    {
     "data": {
      "text/plain": [
       "[<matplotlib.lines.Line2D at 0x7f7293534e80>]"
      ]
     },
     "execution_count": 16,
     "metadata": {},
     "output_type": "execute_result"
    },
    {
     "data": {
      "text/plain": [
       "<matplotlib.figure.Figure at 0x7f729357ac50>"
      ]
     },
     "metadata": {},
     "output_type": "display_data"
    },
    {
     "data": {
      "image/png": "[encoded data removed]",
      "text/plain": [
       "<matplotlib.figure.Figure at 0x7f7293324860>"
      ]
     },
     "metadata": {},
     "output_type": "display_data"
    }
   ],
   "source": [
    "plt.clf()\n",
    "\n",
    "x = np.arange(-4.0, 4.0, 0.001)\n",
    "y_log = expit(x)\n",
    "\n",
    "fig, ax = plt.subplots()\n",
    "\n",
    "plt.tick_params(\n",
    "    axis='both',\n",
    "    which='both',      # both major and minor ticks are affected\n",
    "    bottom=False,      # ticks along the bottom edge are off\n",
    "    left=False,\n",
    "    right=False,\n",
    "    top=False,         # ticks along the top edge are off\n",
    "    labelbottom=False, \n",
    "    labelleft=False) # labels along the bottom edge are off\n",
    "\n",
    "ax.plot(x,y_log, color='red')\n",
    "\n",
    "#ax.grid()\n",
    "\n",
    "plt.savefig('log.pdf')"
   ]
  },
  {
   "cell_type": "code",
   "execution_count": 9,
   "metadata": {},
   "outputs": [
    {
     "data": {
      "text/plain": [
       "[<matplotlib.lines.Line2D at 0x7f7293439940>]"
      ]
     },
     "execution_count": 9,
     "metadata": {},
     "output_type": "execute_result"
    },
    {
     "data": {
      "text/plain": [
       "<matplotlib.figure.Figure at 0x7f7293447470>"
      ]
     },
     "metadata": {},
     "output_type": "display_data"
    },
    {
     "data": {
      "image/png": "[encoded data removed]",
      "text/plain": [
       "<matplotlib.figure.Figure at 0x7f7293447908>"
      ]
     },
     "metadata": {},
     "output_type": "display_data"
    }
   ],
   "source": [
    "plt.clf()\n",
    "\n",
    "x = np.arange(-4.0, 4.0, 0.001)\n",
    "y_relu = np.maximum(x,0)\n",
    "\n",
    "fig, ax = plt.subplots()\n",
    "\n",
    "plt.tick_params(\n",
    "    axis='both',\n",
    "    which='both',      # both major and minor ticks are affected\n",
    "    bottom=False,      # ticks along the bottom edge are off\n",
    "    left=False,\n",
    "    right=False,\n",
    "    top=False,         # ticks along the top edge are off\n",
    "    labelbottom=False, \n",
    "    labelleft=False) # labels along the bottom edge are off\n",
    "ax.plot(x,y_relu, color='red')\n",
    "\n",
    "#ax.grid()\n",
    "\n",
    "plt.savefig('relu.pdf')"
   ]
  },
  {
   "cell_type": "code",
   "execution_count": 12,
   "metadata": {},
   "outputs": [],
   "source": [
    "def softmax_v2(w, t = 2.0):\n",
    "    e = np.exp(np.array(w) / t)\n",
    "    dist = e / np.sum(e)\n",
    "    return dist"
   ]
  },
  {
   "cell_type": "code",
   "execution_count": 14,
   "metadata": {},
   "outputs": [
    {
     "data": {
      "text/plain": [
       "[<matplotlib.lines.Line2D at 0x7f7292a2d6a0>]"
      ]
     },
     "execution_count": 14,
     "metadata": {},
     "output_type": "execute_result"
    },
    {
     "data": {
      "text/plain": [
       "[<matplotlib.lines.Line2D at 0x7f7292a2dc88>]"
      ]
     },
     "execution_count": 14,
     "metadata": {},
     "output_type": "execute_result"
    },
    {
     "data": {
      "text/plain": [
       "[<matplotlib.lines.Line2D at 0x7f7292a2dcf8>]"
      ]
     },
     "execution_count": 14,
     "metadata": {},
     "output_type": "execute_result"
    },
    {
     "data": {
      "text/plain": [
       "[<matplotlib.lines.Line2D at 0x7f7292a33588>]"
      ]
     },
     "execution_count": 14,
     "metadata": {},
     "output_type": "execute_result"
    },
    {
     "data": {
      "text/plain": [
       "[<matplotlib.lines.Line2D at 0x7f7292a339e8>]"
      ]
     },
     "execution_count": 14,
     "metadata": {},
     "output_type": "execute_result"
    },
    {
     "data": {
      "text/plain": [
       "[<matplotlib.lines.Line2D at 0x7f7292a33e48>]"
      ]
     },
     "execution_count": 14,
     "metadata": {},
     "output_type": "execute_result"
    },
    {
     "data": {
      "text/plain": [
       "<matplotlib.figure.Figure at 0x7f72934a59b0>"
      ]
     },
     "metadata": {},
     "output_type": "display_data"
    },
    {
     "data": {
      "image/png": "[encoded data removed]",
      "text/plain": [
       "<matplotlib.figure.Figure at 0x7f7293513860>"
      ]
     },
     "metadata": {},
     "output_type": "display_data"
    }
   ],
   "source": [
    "plt.clf()\n",
    "\n",
    "x = np.arange(-2.0, 10.0, 0.00001)\n",
    "\n",
    "fig, ax = plt.subplots()\n",
    "\n",
    "plt.tick_params(\n",
    "    axis='both',\n",
    "    which='both',      # both major and minor ticks are affected\n",
    "    bottom=False,      # ticks along the bottom edge are off\n",
    "    left=False,\n",
    "    right=False,\n",
    "    top=False,         # ticks along the top edge are off\n",
    "    labelbottom=False, \n",
    "    labelleft=False) # labels along the bottom edge are off\n",
    "\n",
    "colors = ['red', 'blue', 'green', 'orange', 'lightseagreen', 'orchid', 'limegreen', 'navy']\n",
    "ts = np.arange(1,4, 0.5)\n",
    "for i, color_graph in zip(ts, colors):\n",
    "    y_softmax = softmax_v2(x, i)\n",
    "    ax.plot(x,y_softmax, color=color_graph)\n",
    "\n",
    "\n",
    "#ax.grid()\n",
    "\n",
    "plt.savefig('softmax.pdf')"
   ]
  },
  {
   "cell_type": "code",
   "execution_count": 13,
   "metadata": {
    "collapsed": true
   },
   "outputs": [],
   "source": [
    "def softmax_v2(w, t = 1.0):\n",
    "    e = np.exp(np.array(w) / t)\n",
    "    dist = e / np.sum(e)\n",
    "    return dist"
   ]
  },
  {
   "cell_type": "code",
   "execution_count": null,
   "metadata": {
    "collapsed": true
   },
   "outputs": [],
   "source": []
  }
 ],
 "metadata": {
  "kernelspec": {
   "display_name": "Python 3",
   "language": "python",
   "name": "python3"
  },
  "language_info": {
   "codemirror_mode": {
    "name": "ipython",
    "version": 3
   },
   "file_extension": ".py",
   "mimetype": "text/x-python",
   "name": "python",
   "nbconvert_exporter": "python",
   "pygments_lexer": "ipython3",
   "version": "3.5.2"
  }
 },
 "nbformat": 4,
 "nbformat_minor": 2
}
