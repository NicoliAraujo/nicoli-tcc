{
 "cells": [
  {
   "cell_type": "code",
   "execution_count": 1,
   "metadata": {},
   "outputs": [],
   "source": [
    "import numpy as np\n",
    "import pandas as pd\n",
    "from scipy.special import expit\n",
    "from sklearn.utils.extmath import softmax\n",
    "\n",
    "%matplotlib inline\n",
    "\n",
    "import seaborn as sns\n",
    "import matplotlib.pyplot as plt"
   ]
  },
  {
   "cell_type": "code",
   "execution_count": 4,
   "metadata": {},
   "outputs": [],
   "source": [
    "x = np.arange(-4, 4, 0.1)\n",
    "y = np.power(x,2)"
   ]
  },
  {
   "cell_type": "code",
   "execution_count": 9,
   "metadata": {},
   "outputs": [
    {
     "data": {
      "text/plain": [
       "[<matplotlib.lines.Line2D at 0x7f46f1b23860>]"
      ]
     },
     "execution_count": 9,
     "metadata": {},
     "output_type": "execute_result"
    },
    {
     "data": {
      "text/plain": [
       "[<matplotlib.lines.Line2D at 0x7f46f1b23be0>]"
      ]
     },
     "execution_count": 9,
     "metadata": {},
     "output_type": "execute_result"
    },
    {
     "data": {
      "image/png": "[encoded data removed]",
      "text/plain": [
       "<matplotlib.figure.Figure at 0x7f46f1b23d30>"
      ]
     },
     "metadata": {},
     "output_type": "display_data"
    }
   ],
   "source": [
    "fig, ax = plt.subplots()\n",
    "\n",
    "plt.tick_params(\n",
    "    axis='both',\n",
    "    which='both',      # both major and minor ticks are affected\n",
    "    bottom=False,      # ticks along the bottom edge are off\n",
    "    left=False,\n",
    "    right=False,\n",
    "    top=False,         # ticks along the top edge are off\n",
    "    labelbottom=False, \n",
    "    labelleft=False) # labels along the bottom edge are off\n",
    "\n",
    "ax.plot(x,y, color='red')\n",
    "ax.plot(0,0, color='red', marker='o')\n",
    "\n",
    "plt.savefig('minimum.pdf')"
   ]
  },
  {
   "cell_type": "code",
   "execution_count": 11,
   "metadata": {},
   "outputs": [
    {
     "data": {
      "text/plain": [
       "[<matplotlib.lines.Line2D at 0x7f46f181d2e8>]"
      ]
     },
     "execution_count": 11,
     "metadata": {},
     "output_type": "execute_result"
    },
    {
     "data": {
      "text/plain": [
       "[<matplotlib.lines.Line2D at 0x7f46f17c9a90>]"
      ]
     },
     "execution_count": 11,
     "metadata": {},
     "output_type": "execute_result"
    },
    {
     "data": {
      "image/png": "[encoded data removed]",
      "text/plain": [
       "<matplotlib.figure.Figure at 0x7f46f181d438>"
      ]
     },
     "metadata": {},
     "output_type": "display_data"
    }
   ],
   "source": [
    "fig, ax = plt.subplots()\n",
    "\n",
    "x = np.arange(-4, 4, 0.1)\n",
    "y = -np.power(x,2)\n",
    "\n",
    "plt.tick_params(\n",
    "    axis='both',\n",
    "    which='both',      # both major and minor ticks are affected\n",
    "    bottom=False,      # ticks along the bottom edge are off\n",
    "    left=False,\n",
    "    right=False,\n",
    "    top=False,         # ticks along the top edge are off\n",
    "    labelbottom=False, \n",
    "    labelleft=False) # labels along the bottom edge are off\n",
    "\n",
    "ax.plot(x,y, color='red')\n",
    "ax.plot(0,0, color='red', marker='o')\n",
    "\n",
    "plt.savefig('maximum.pdf')"
   ]
  },
  {
   "cell_type": "code",
   "execution_count": null,
   "metadata": {},
   "outputs": [],
   "source": [
    "fig, ax = plt.subplots()\n",
    "\n",
    "x1 = np.arange(-4, 0, 0.1)\n",
    "y1 = -np.power(x,2)\n",
    "\n",
    "x2 = np.arange(0, 4, 0.1)\n",
    "y2 = -np.power(x,2)\n",
    "\n",
    "plt.tick_params(\n",
    "    axis='both',\n",
    "    which='both',      # both major and minor ticks are affected\n",
    "    bottom=False,      # ticks along the bottom edge are off\n",
    "    left=False,\n",
    "    right=False,\n",
    "    top=False,         # ticks along the top edge are off\n",
    "    labelbottom=False, \n",
    "    labelleft=False) # labels along the bottom edge are off\n",
    "\n",
    "ax.plot(x,y, color='red')\n",
    "ax.plot(0,0, color='red', marker='o')\n",
    "\n",
    "plt.savefig('saddle.pdf')"
   ]
  }
 ],
 "metadata": {
  "kernelspec": {
   "display_name": "Python 3",
   "language": "python",
   "name": "python3"
  },
  "language_info": {
   "codemirror_mode": {
    "name": "ipython",
    "version": 3
   },
   "file_extension": ".py",
   "mimetype": "text/x-python",
   "name": "python",
   "nbconvert_exporter": "python",
   "pygments_lexer": "ipython3",
   "version": "3.5.2"
  }
 },
 "nbformat": 4,
 "nbformat_minor": 2
}
